{
  "nbformat": 4,
  "nbformat_minor": 0,
  "metadata": {
    "colab": {
      "provenance": []
    },
    "kernelspec": {
      "name": "python3",
      "display_name": "Python 3"
    },
    "language_info": {
      "name": "python"
    }
  },
  "cells": [
    {
      "cell_type": "markdown",
      "source": [
        "# **CALCULATION OF MOOD BASED ON SENTIMENTAL ANALYSIS**"
      ],
      "metadata": {
        "id": "goy2nSyQNoHZ"
      }
    },
    {
      "cell_type": "markdown",
      "source": [
        "## **1. LOAD THE DATA SET**"
      ],
      "metadata": {
        "id": "WrWOuhfuNthV"
      }
    },
    {
      "cell_type": "code",
      "source": [
        "import pandas as pd\n",
        "\n",
        "# Load the dataset\n",
        "file_path = \"/content/test.csv\"  # Replace with your actual file path\n",
        "data = pd.read_csv(file_path)\n",
        "\n",
        "# Display basic information about the dataset\n",
        "print(\"Shape of dataset:\", data.shape)\n",
        "print(\"Dataset Info:\")\n",
        "print(data.info())\n",
        "\n",
        "# Display the first few rows of the dataset\n",
        "print(data.head())"
      ],
      "metadata": {
        "colab": {
          "base_uri": "https://localhost:8080/"
        },
        "id": "4avZjMKpNmS5",
        "outputId": "6a8a4c0a-2e24-4462-8808-88783b7f43f6"
      },
      "execution_count": 1,
      "outputs": [
        {
          "output_type": "stream",
          "name": "stdout",
          "text": [
            "Shape of dataset: (2000, 2)\n",
            "Dataset Info:\n",
            "<class 'pandas.core.frame.DataFrame'>\n",
            "RangeIndex: 2000 entries, 0 to 1999\n",
            "Data columns (total 2 columns):\n",
            " #   Column  Non-Null Count  Dtype \n",
            "---  ------  --------------  ----- \n",
            " 0   text    2000 non-null   object\n",
            " 1   label   2000 non-null   int64 \n",
            "dtypes: int64(1), object(1)\n",
            "memory usage: 31.4+ KB\n",
            "None\n",
            "                                                text  label\n",
            "0  im feeling rather rotten so im not very ambiti...      0\n",
            "1          im updating my blog because i feel shitty      0\n",
            "2  i never make her separate from me because i do...      0\n",
            "3  i left with my bouquet of red and yellow tulip...      1\n",
            "4    i was feeling a little vain when i did this one      0\n"
          ]
        }
      ]
    },
    {
      "cell_type": "markdown",
      "source": [
        "**Description:**\n",
        "I used pandas to load the dataset from the specified file path into a DataFrame. Then, I checked the shape of the dataset to see the number of rows and columns. I printed the dataset's information, such as column names, non-null counts, and data types, to ensure data integrity. Lastly, I displayed the first few rows of the dataset to get an overview of the text and label columns.\n",
        "\n",
        "As an output, I got:\n",
        "\n",
        "**Shape**: Number of rows and columns in the dataset.\n",
        "Info: Metadata about the dataset, including data types and null values.\n",
        "\n",
        "**Head**: A snapshot of the first few rows to verify the data.\n"
      ],
      "metadata": {
        "id": "pSmXq1uePNnm"
      }
    },
    {
      "cell_type": "markdown",
      "source": [
        "## **2. Preprocess the Text Data**"
      ],
      "metadata": {
        "id": "hOc-q6AXQJWf"
      }
    },
    {
      "cell_type": "code",
      "source": [
        "import re\n",
        "from nltk.corpus import stopwords\n",
        "from nltk.stem import WordNetLemmatizer\n",
        "import nltk\n",
        "\n",
        "# Download NLTK resources (stopwords and wordnet)\n",
        "nltk.download(\"stopwords\")\n",
        "nltk.download(\"wordnet\")\n",
        "\n",
        "# Initialize stop words and lemmatizer\n",
        "stop_words = set(stopwords.words(\"english\"))\n",
        "lemmatizer = WordNetLemmatizer()\n",
        "\n",
        "# Preprocessing function\n",
        "def preprocess_text(text):\n",
        "    # Remove punctuation and special characters\n",
        "    text = re.sub(r\"[^\\w\\s]\", \"\", text)\n",
        "    # Convert to lowercase\n",
        "    text = text.lower()\n",
        "    # Tokenize words\n",
        "    tokens = text.split()\n",
        "    # Remove stop words and lemmatize\n",
        "    tokens = [lemmatizer.lemmatize(word) for word in tokens if word not in stop_words]\n",
        "    return \" \".join(tokens)\n",
        "\n",
        "# Apply preprocessing to the text column\n",
        "data[\"processed_text\"] = data[\"text\"].apply(preprocess_text)\n",
        "\n",
        "# Display the first few rows of the processed dataset\n",
        "print(data.head())"
      ],
      "metadata": {
        "colab": {
          "base_uri": "https://localhost:8080/"
        },
        "id": "14QVK6_oQL8t",
        "outputId": "ca53e87a-7a1d-4ed0-e768-1ae76454559a"
      },
      "execution_count": 2,
      "outputs": [
        {
          "output_type": "stream",
          "name": "stderr",
          "text": [
            "[nltk_data] Downloading package stopwords to /root/nltk_data...\n",
            "[nltk_data]   Unzipping corpora/stopwords.zip.\n",
            "[nltk_data] Downloading package wordnet to /root/nltk_data...\n"
          ]
        },
        {
          "output_type": "stream",
          "name": "stdout",
          "text": [
            "                                                text  label  \\\n",
            "0  im feeling rather rotten so im not very ambiti...      0   \n",
            "1          im updating my blog because i feel shitty      0   \n",
            "2  i never make her separate from me because i do...      0   \n",
            "3  i left with my bouquet of red and yellow tulip...      1   \n",
            "4    i was feeling a little vain when i did this one      0   \n",
            "\n",
            "                                      processed_text  \n",
            "0        im feeling rather rotten im ambitious right  \n",
            "1                       im updating blog feel shitty  \n",
            "2    never make separate ever want feel like ashamed  \n",
            "3  left bouquet red yellow tulip arm feeling slig...  \n",
            "4                            feeling little vain one  \n"
          ]
        }
      ]
    },
    {
      "cell_type": "markdown",
      "source": [
        "**Description:**\n",
        "I used NLTK and regular expressions to preprocess the text data. First, I downloaded the stopwords and wordnet resources for text cleaning and lemmatization. Then, I removed punctuation and special characters using regex, converted the text to lowercase for uniformity, and tokenized the words. Next, I filtered out stopwords (common words like \"the\" or \"and\") and applied lemmatization to reduce words to their base forms (e.g., \"running\" → \"run\").\n",
        "\n",
        "As an output, I created a new column processed_text with the cleaned text data. Each row now contains the processed version of the original text, which is ready for feature extraction."
      ],
      "metadata": {
        "id": "IE4yuzpwQWKY"
      }
    },
    {
      "cell_type": "markdown",
      "source": [
        "## **3. Encode the Labels**"
      ],
      "metadata": {
        "id": "D85iSPvZQab5"
      }
    },
    {
      "cell_type": "code",
      "source": [
        "# Assign existing numeric labels to a new column for clarity\n",
        "data[\"encoded_label\"] = data[\"label\"]\n",
        "\n",
        "# Display the first few rows to confirm\n",
        "print(data.head())"
      ],
      "metadata": {
        "colab": {
          "base_uri": "https://localhost:8080/"
        },
        "id": "YElgn3OKQh6t",
        "outputId": "faf71e52-102a-4943-cad3-284ef34158cd"
      },
      "execution_count": 3,
      "outputs": [
        {
          "output_type": "stream",
          "name": "stdout",
          "text": [
            "                                                text  label  \\\n",
            "0  im feeling rather rotten so im not very ambiti...      0   \n",
            "1          im updating my blog because i feel shitty      0   \n",
            "2  i never make her separate from me because i do...      0   \n",
            "3  i left with my bouquet of red and yellow tulip...      1   \n",
            "4    i was feeling a little vain when i did this one      0   \n",
            "\n",
            "                                      processed_text  encoded_label  \n",
            "0        im feeling rather rotten im ambitious right              0  \n",
            "1                       im updating blog feel shitty              0  \n",
            "2    never make separate ever want feel like ashamed              0  \n",
            "3  left bouquet red yellow tulip arm feeling slig...              1  \n",
            "4                            feeling little vain one              0  \n"
          ]
        }
      ]
    },
    {
      "cell_type": "markdown",
      "source": [
        "**Description:**\n",
        "I assigned the existing label column to a new column named encoded_label to ensure clarity while working on encoding later steps. This step helps keep the original dataset intact while providing a consistent naming convention for labels during training.\n",
        "\n",
        "As an output, I got a new column encoded_label in the DataFrame, which contains the same numeric values as the label column. This ensures the dataset is now ready for splitting into training and testing sets."
      ],
      "metadata": {
        "id": "3FPYFoLWQlti"
      }
    },
    {
      "cell_type": "markdown",
      "source": [
        "## **4. Split the Dataset into Training and Testing Sets**"
      ],
      "metadata": {
        "id": "Iej_SchcQtK5"
      }
    },
    {
      "cell_type": "code",
      "source": [
        "from sklearn.model_selection import train_test_split\n",
        "\n",
        "# Split the dataset into training and testing sets\n",
        "X_train, X_test, y_train, y_test = train_test_split(\n",
        "    data[\"processed_text\"], data[\"encoded_label\"], test_size=0.2, random_state=42\n",
        ")\n",
        "\n",
        "# Print the sizes of training and testing sets\n",
        "print(\"Training Set Size:\", len(X_train))\n",
        "print(\"Testing Set Size:\", len(X_test))"
      ],
      "metadata": {
        "colab": {
          "base_uri": "https://localhost:8080/"
        },
        "id": "ckFo5OxjQuSF",
        "outputId": "01c8c4e7-250f-4ab9-fbc4-87466c429bab"
      },
      "execution_count": 4,
      "outputs": [
        {
          "output_type": "stream",
          "name": "stdout",
          "text": [
            "Training Set Size: 1600\n",
            "Testing Set Size: 400\n"
          ]
        }
      ]
    },
    {
      "cell_type": "markdown",
      "source": [
        "**Description:**\n",
        "I split the dataset into training and testing sets using train_test_split from scikit-learn. The processed text data (processed_text) serves as the input features, and the encoded labels (encoded_label) are the target values. I allocated 80% of the data for training and 20% for testing to ensure a good balance for evaluation.\n",
        "\n",
        "**As an output:**\n",
        "\n",
        "I got two datasets: X_train and X_test for the text inputs and y_train and y_test for the labels.\n",
        "The training set contains 80% of the data, and the testing set contains the remaining 20%."
      ],
      "metadata": {
        "id": "zoxh_L5yQyg1"
      }
    },
    {
      "cell_type": "markdown",
      "source": [
        "## **5. Extract Features Using TF-IDF**"
      ],
      "metadata": {
        "id": "2jeLA53FQ1-h"
      }
    },
    {
      "cell_type": "code",
      "source": [
        "from sklearn.feature_extraction.text import TfidfVectorizer\n",
        "\n",
        "# Initialize TF-IDF Vectorizer\n",
        "tfidf = TfidfVectorizer(max_features=5000)  # Limit to top 5000 features\n",
        "\n",
        "# Fit and transform the training data\n",
        "X_train_tfidf = tfidf.fit_transform(X_train)\n",
        "\n",
        "# Transform the test data\n",
        "X_test_tfidf = tfidf.transform(X_test)\n",
        "\n",
        "# Print the shape of the transformed datasets\n",
        "print(\"TF-IDF Training Features Shape:\", X_train_tfidf.shape)\n",
        "print(\"TF-IDF Testing Features Shape:\", X_test_tfidf.shape)"
      ],
      "metadata": {
        "colab": {
          "base_uri": "https://localhost:8080/"
        },
        "id": "329DDnQOQ7VJ",
        "outputId": "040ee397-db97-46da-fa54-2f02304cf75a"
      },
      "execution_count": 5,
      "outputs": [
        {
          "output_type": "stream",
          "name": "stdout",
          "text": [
            "TF-IDF Training Features Shape: (1600, 3855)\n",
            "TF-IDF Testing Features Shape: (400, 3855)\n"
          ]
        }
      ]
    },
    {
      "cell_type": "markdown",
      "source": [
        "**Description:**\n",
        "I used TfidfVectorizer from scikit-learn to convert the processed text into numerical feature vectors. The max_features=5000 parameter ensures only the top 5000 most relevant terms are considered, improving performance and reducing computational cost.\n",
        "\n",
        "I fit the TF-IDF vectorizer on the training data (X_train) to learn term weights and transformed it into a numerical matrix (X_train_tfidf).\n",
        "I transformed the test data (X_test) using the same vectorizer to maintain consistency in features.\n",
        "\n",
        "**As an output:**\n",
        "\n",
        "I got two matrices: X_train_tfidf and X_test_tfidf, representing the numerical features for the training and testing datasets.\n",
        "Each row corresponds to a sample, and each column represents a term's TF-IDF value."
      ],
      "metadata": {
        "id": "14zFviU4ROuj"
      }
    },
    {
      "cell_type": "markdown",
      "source": [
        "## **6. Train a Logistic Regression Model**"
      ],
      "metadata": {
        "id": "40S5Bq97Rl0A"
      }
    },
    {
      "cell_type": "code",
      "source": [
        "from sklearn.linear_model import LogisticRegression\n",
        "\n",
        "# Initialize and train the Logistic Regression model\n",
        "model = LogisticRegression(max_iter=1000)\n",
        "model.fit(X_train_tfidf, y_train)\n",
        "\n",
        "# Print a confirmation message\n",
        "print(\"Model training complete!\")"
      ],
      "metadata": {
        "colab": {
          "base_uri": "https://localhost:8080/"
        },
        "id": "hqB5T6qCQ1cv",
        "outputId": "79658041-cbeb-4348-996d-cee4c1d2c113"
      },
      "execution_count": 6,
      "outputs": [
        {
          "output_type": "stream",
          "name": "stdout",
          "text": [
            "Model training complete!\n"
          ]
        }
      ]
    },
    {
      "cell_type": "markdown",
      "source": [
        "**Description:**\n",
        "I used LogisticRegression from scikit-learn to train the model on the TF-IDF-transformed training data (X_train_tfidf) with corresponding labels (y_train). Logistic Regression is a simple yet effective algorithm for text classification tasks.\n",
        "\n",
        "I initialized the model with max_iter=1000 to allow sufficient iterations for convergence.\n",
        "Then, I trained the model using the .fit() method, which learns the relationship between the input features and the target labels.\n",
        "\n",
        "**As an output:**\n",
        "\n",
        "The Logistic Regression model is now trained and ready for predictions on the test data."
      ],
      "metadata": {
        "id": "ax3z2nF9RwNB"
      }
    },
    {
      "cell_type": "markdown",
      "source": [
        "## **7. Evaluate the Model**"
      ],
      "metadata": {
        "id": "5RvXDA1lR54m"
      }
    },
    {
      "cell_type": "code",
      "source": [
        "from sklearn.metrics import accuracy_score, precision_score, recall_score, f1_score\n",
        "\n",
        "# Predict on the test set\n",
        "y_pred = model.predict(X_test_tfidf)\n",
        "\n",
        "# Calculate evaluation metrics\n",
        "accuracy = accuracy_score(y_test, y_pred)\n",
        "precision = precision_score(y_test, y_pred, average=\"weighted\", zero_division=1)\n",
        "recall = recall_score(y_test, y_pred, average=\"weighted\", zero_division=1)\n",
        "f1 = f1_score(y_test, y_pred, average=\"weighted\", zero_division=1)\n",
        "\n",
        "# Print the metrics\n",
        "print(f\"Accuracy: {accuracy:.2f}\")\n",
        "print(f\"Precision: {precision:.2f}\")\n",
        "print(f\"Recall: {recall:.2f}\")\n",
        "print(f\"F1-Score: {f1:.2f}\")"
      ],
      "metadata": {
        "colab": {
          "base_uri": "https://localhost:8080/"
        },
        "id": "ibxLMphRR7L9",
        "outputId": "3acd00ff-eadc-4a9c-ddde-0735f7979a91"
      },
      "execution_count": 7,
      "outputs": [
        {
          "output_type": "stream",
          "name": "stdout",
          "text": [
            "Accuracy: 0.64\n",
            "Precision: 0.72\n",
            "Recall: 0.64\n",
            "F1-Score: 0.57\n"
          ]
        }
      ]
    },
    {
      "cell_type": "markdown",
      "source": [
        "**Description:**\n",
        "I used scikit-learn's accuracy_score, precision_score, recall_score, and f1_score to evaluate the model's predictions (y_pred) against the true labels (y_test). Each metric gives insight into the model’s performance:\n",
        "\n",
        "1.   Accuracy: The fraction of correctly predicted labels.\n",
        "2.   Precision: The ratio of true positives to all predicted positives.\n",
        "3.   Recall: The ratio of true positives to all actual positives.\n",
        "4.   F1-Score: A balance between precision and recall.\n",
        "\n",
        "\n",
        "**As an output:**\n",
        "\n",
        "I got the performance metrics (Accuracy, Precision, Recall, F1-Score) as numeric values, giving a quantitative measure of how well the model performs on the test data."
      ],
      "metadata": {
        "id": "oi6Z0QsoSAqd"
      }
    },
    {
      "cell_type": "markdown",
      "source": [
        "## **8. Plot Precision, Recall, F1-Score, and Display Accuracy**"
      ],
      "metadata": {
        "id": "lUxFTlenUmYS"
      }
    },
    {
      "cell_type": "code",
      "source": [
        "import matplotlib.pyplot as plt\n",
        "import numpy as np\n",
        "from sklearn.metrics import classification_report\n",
        "\n",
        "# Generate the classification report as a dictionary\n",
        "label_mapping = {0: \"sadness\", 1: \"joy\", 2: \"love\", 3: \"anger\", 4: \"fear\"}  # Define label mapping\n",
        "report = classification_report(\n",
        "    y_test,\n",
        "    y_pred,\n",
        "    labels=sorted(label_mapping.keys()),\n",
        "    target_names=[label_mapping[label] for label in sorted(label_mapping.keys())],\n",
        "    zero_division=1,\n",
        "    output_dict=True,\n",
        ")\n",
        "\n",
        "# Extract precision, recall, and F1-score for each class\n",
        "classes = list(report.keys())[:-3]  # Ignore 'accuracy', 'macro avg', 'weighted avg'\n",
        "precision = [report[cls][\"precision\"] for cls in classes]\n",
        "recall = [report[cls][\"recall\"] for cls in classes]\n",
        "f1_score = [report[cls][\"f1-score\"] for cls in classes]\n",
        "\n",
        "# Plot the metrics\n",
        "x = np.arange(len(classes))  # Class indices\n",
        "width = 0.25  # Bar width\n",
        "\n",
        "fig, ax = plt.subplots(figsize=(10, 6))\n",
        "\n",
        "# Plot bars\n",
        "rects1 = ax.bar(x - width, precision, width, label=\"Precision\")\n",
        "rects2 = ax.bar(x, recall, width, label=\"Recall\")\n",
        "rects3 = ax.bar(x + width, f1_score, width, label=\"F1-Score\")\n",
        "\n",
        "# Add labels, title, and legend\n",
        "ax.set_xlabel(\"Classes\", fontsize=12)\n",
        "ax.set_ylabel(\"Scores\", fontsize=12)\n",
        "ax.set_title(\"Precision, Recall, and F1-Score by Class\", fontsize=16)\n",
        "ax.set_xticks(x)\n",
        "ax.set_xticklabels(classes, rotation=45, fontsize=10)\n",
        "ax.legend()\n",
        "\n",
        "# Add values on top of bars\n",
        "def add_values(rects):\n",
        "    for rect in rects:\n",
        "        height = rect.get_height()\n",
        "        ax.annotate(f\"{height:.2f}\",\n",
        "                    xy=(rect.get_x() + rect.get_width() / 2, height),\n",
        "                    xytext=(0, 3),  # Offset above bar\n",
        "                    textcoords=\"offset points\",\n",
        "                    ha=\"center\", va=\"bottom\", fontsize=9)\n",
        "\n",
        "add_values(rects1)\n",
        "add_values(rects2)\n",
        "add_values(rects3)\n",
        "\n",
        "# Adjust layout and show the plot\n",
        "fig.tight_layout()\n",
        "plt.show()"
      ],
      "metadata": {
        "colab": {
          "base_uri": "https://localhost:8080/",
          "height": 607
        },
        "id": "w_Xk8M9gT1yJ",
        "outputId": "dadbb964-eaff-423f-e741-2a3e9eb95b3b"
      },
      "execution_count": 9,
      "outputs": [
        {
          "output_type": "display_data",
          "data": {
            "text/plain": [
              "<Figure size 1000x600 with 1 Axes>"
            ],
            "image/png": "[encoded data removed]"
          },
          "metadata": {}
        }
      ]
    },
    {
      "cell_type": "code",
      "source": [
        "import matplotlib.pyplot as plt\n",
        "import numpy as np\n",
        "\n",
        "# Metrics to plot\n",
        "metrics = [\"Accuracy\", \"Precision\", \"Recall\", \"F1-Score\"]\n",
        "# Convert all score values to single numbers if they aren't already\n",
        "# Use np.mean() to calculate the mean of precision and recall lists\n",
        "scores = [accuracy, np.mean(precision), np.mean(recall), f1]\n",
        "\n",
        "# Create the plot\n",
        "plt.figure(figsize=(8, 5))\n",
        "bars = plt.bar(metrics, scores, color=\"skyblue\", alpha=0.8)\n",
        "\n",
        "# Annotate the bar heights\n",
        "for bar in bars:\n",
        "    plt.text(\n",
        "        bar.get_x() + bar.get_width() / 2,\n",
        "        bar.get_height(),\n",
        "        f\"{bar.get_height():.2f}\",\n",
        "        ha=\"center\",\n",
        "        va=\"bottom\",\n",
        "        fontsize=10,\n",
        "        color=\"black\"\n",
        "    )\n",
        "\n",
        "# Add titles and labels\n",
        "plt.title(\"Model Evaluation Metrics\", fontsize=16)\n",
        "plt.ylabel(\"Score\", fontsize=12)\n",
        "plt.ylim(0, 1.0)  # Ensure the y-axis is between 0 and 1\n",
        "plt.grid(axis=\"y\", linestyle=\"--\", alpha=0.7)\n",
        "\n",
        "# Show the plot\n",
        "plt.tight_layout()\n",
        "plt.show()\n"
      ],
      "metadata": {
        "colab": {
          "base_uri": "https://localhost:8080/",
          "height": 507
        },
        "id": "VF2YQGhDSx85",
        "outputId": "9c1ae367-32a3-4b22-dcf0-407c33c52243"
      },
      "execution_count": 10,
      "outputs": [
        {
          "output_type": "display_data",
          "data": {
            "text/plain": [
              "<Figure size 800x500 with 1 Axes>"
            ],
            "image/png": "[encoded data removed]"
          },
          "metadata": {}
        }
      ]
    },
    {
      "cell_type": "markdown",
      "source": [
        "**Description:**\n",
        "I created a bar chart to visualize the Precision, Recall, and F1-Score for each class:\n",
        "\n",
        "Data Extraction: I used classification_report to calculate the metrics for each class and stored them in a dictionary.\n",
        "Plotting:\n",
        "Plotted three sets of bars (Precision, Recall, F1-Score) for each class using Matplotlib.\n",
        "Added labels, legends, and titles to make the chart informative.\n",
        "Values on Bars: Displayed metric values directly above the bars for clarity.\n",
        "\n",
        "**As an output:**\n",
        "\n",
        "I got a grouped bar chart showing the Precision, Recall, and F1-Score for each class (e.g., sadness, joy, love, anger, fear)."
      ],
      "metadata": {
        "id": "xYDh3qssUXeb"
      }
    },
    {
      "cell_type": "markdown",
      "source": [
        "## **8. Save the Model and Vectorizer**"
      ],
      "metadata": {
        "id": "R6F1Jr8fUwx1"
      }
    },
    {
      "cell_type": "code",
      "source": [
        "import joblib\n",
        "\n",
        "# Save the trained model\n",
        "joblib.dump(model, \"mood_classifier_model.joblib\")\n",
        "\n",
        "# Save the TF-IDF vectorizer\n",
        "joblib.dump(tfidf, \"tfidf_vectorizer.joblib\")\n",
        "\n",
        "# Print confirmation messages\n",
        "print(\"Model saved as 'mood_classifier_model.joblib'\")\n",
        "print(\"Vectorizer saved as 'tfidf_vectorizer.joblib'\")"
      ],
      "metadata": {
        "colab": {
          "base_uri": "https://localhost:8080/"
        },
        "id": "D1kthzdyUuB9",
        "outputId": "d3a1e81b-6a30-47c2-8fbd-c8e2161a698d"
      },
      "execution_count": 11,
      "outputs": [
        {
          "output_type": "stream",
          "name": "stdout",
          "text": [
            "Model saved as 'mood_classifier_model.joblib'\n",
            "Vectorizer saved as 'tfidf_vectorizer.joblib'\n"
          ]
        }
      ]
    },
    {
      "cell_type": "markdown",
      "source": [
        "**Description:**\n",
        "\n",
        "I saved the trained Logistic Regression model and the TF-IDF vectorizer using joblib. This step ensures that the model and vectorizer can be reused later without retraining or refitting.\n",
        "\n",
        "Model Saving: The mood_classifier_model.joblib file stores the trained Logistic Regression model, including the learned weights and parameters.\n",
        "Vectorizer Saving: The tfidf_vectorizer.joblib file saves the TF-IDF vectorizer, which contains the vocabulary and term weights used during feature extraction.\n",
        "\n",
        "**As an output:**\n",
        "\n",
        "I got two .joblib files: one for the model and another for the vectorizer. These files can be loaded back later to make predictions on new data without redoing the entire training process."
      ],
      "metadata": {
        "id": "4LUj4b_oU2KG"
      }
    }
  ]
}